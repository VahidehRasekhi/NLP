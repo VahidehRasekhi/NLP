{
 "cells": [
  {
   "cell_type": "code",
   "execution_count": 1,
   "id": "94a20033",
   "metadata": {},
   "outputs": [],
   "source": [
    "from bs4 import BeautifulSoup as BS\n",
    "import pandas as pd\n",
    "import re\n",
    "from tqdm.notebook import tqdm\n",
    "from time import sleep\n",
    "import plotly.express as px\n",
    "import numpy as np\n",
    "import matplotlib.pyplot as plt\n",
    "import glob\n",
    "from spacy.lang.en import English\n",
    "import spacy\n",
    "from spacy.matcher import Matcher\n",
    "\n",
    "from nltk import sent_tokenize"
   ]
  },
  {
   "cell_type": "code",
   "execution_count": 2,
   "id": "f048c6d6",
   "metadata": {},
   "outputs": [],
   "source": [
    "with open('./data/mtn-20210731.htm', encoding = 'utf-8') as fp:\n",
    "    soup = BS(fp, 'html.parser')\n",
    "    #ten_k = soup.prettify()\n",
    "#print(ten_k.prettify())"
   ]
  },
  {
   "cell_type": "code",
   "execution_count": null,
   "id": "5b873d2e",
   "metadata": {},
   "outputs": [],
   "source": [
    "type(ten_k)"
   ]
  },
  {
   "cell_type": "code",
   "execution_count": 3,
   "id": "e229447b",
   "metadata": {},
   "outputs": [],
   "source": [
    "test_file =soup.text"
   ]
  },
  {
   "cell_type": "code",
   "execution_count": 4,
   "id": "cb740ceb",
   "metadata": {},
   "outputs": [],
   "source": [
    "sentences_tokenized = sent_tokenize(test_file)"
   ]
  },
  {
   "cell_type": "code",
   "execution_count": null,
   "id": "8578a6ee",
   "metadata": {},
   "outputs": [],
   "source": [
    "sentences = []\n",
    "\n",
    "for sentence in sentences_tokenized:\n",
    "    match = re.search(r'repurchased', sentence)\n",
    "    if match:\n",
    "        sentences.append(sentences)"
   ]
  },
  {
   "cell_type": "code",
   "execution_count": null,
   "id": "62c0cc5d",
   "metadata": {},
   "outputs": [],
   "source": [
    "for sentence in sentences:\n",
    "    re.sub(r\"\\\\[a-z]+\\d?\", \" \", sentence)"
   ]
  },
  {
   "cell_type": "code",
   "execution_count": 5,
   "id": "fde0d641",
   "metadata": {},
   "outputs": [
    {
     "ename": "NameError",
     "evalue": "name 'sentences' is not defined",
     "output_type": "error",
     "traceback": [
      "\u001b[0;31m---------------------------------------------------------------------------\u001b[0m",
      "\u001b[0;31mNameError\u001b[0m                                 Traceback (most recent call last)",
      "\u001b[0;32m<ipython-input-5-ee6563b7a709>\u001b[0m in \u001b[0;36m<module>\u001b[0;34m\u001b[0m\n\u001b[0;32m----> 1\u001b[0;31m \u001b[0;34m[\u001b[0m\u001b[0mre\u001b[0m\u001b[0;34m.\u001b[0m\u001b[0msub\u001b[0m\u001b[0;34m(\u001b[0m\u001b[0;34mr\"\\\\[a-z]+\\d?\"\u001b[0m\u001b[0;34m,\u001b[0m \u001b[0;34m\" \"\u001b[0m\u001b[0;34m,\u001b[0m \u001b[0msentence\u001b[0m\u001b[0;34m)\u001b[0m \u001b[0;32mfor\u001b[0m \u001b[0msentence\u001b[0m \u001b[0;32min\u001b[0m \u001b[0msentences\u001b[0m\u001b[0;34m]\u001b[0m\u001b[0;34m\u001b[0m\u001b[0;34m\u001b[0m\u001b[0m\n\u001b[0m",
      "\u001b[0;31mNameError\u001b[0m: name 'sentences' is not defined"
     ]
    }
   ],
   "source": [
    "[re.sub(r\"\\\\[a-z]+\\d?\", \" \", sentence) for sentence in sentences]"
   ]
  },
  {
   "cell_type": "code",
   "execution_count": 6,
   "id": "a909bad2",
   "metadata": {},
   "outputs": [
    {
     "ename": "NameError",
     "evalue": "name 'sentences' is not defined",
     "output_type": "error",
     "traceback": [
      "\u001b[0;31m---------------------------------------------------------------------------\u001b[0m",
      "\u001b[0;31mNameError\u001b[0m                                 Traceback (most recent call last)",
      "\u001b[0;32m<ipython-input-6-55770f815e46>\u001b[0m in \u001b[0;36m<module>\u001b[0;34m\u001b[0m\n\u001b[0;32m----> 1\u001b[0;31m \u001b[0;34m[\u001b[0m\u001b[0mre\u001b[0m\u001b[0;34m.\u001b[0m\u001b[0msub\u001b[0m\u001b[0;34m(\u001b[0m\u001b[0;34mr'Board'\u001b[0m\u001b[0;34m,\u001b[0m \u001b[0;34m\" \"\u001b[0m\u001b[0;34m,\u001b[0m \u001b[0msentence\u001b[0m\u001b[0;34m)\u001b[0m \u001b[0;32mfor\u001b[0m \u001b[0msentence\u001b[0m \u001b[0;32min\u001b[0m \u001b[0msentences\u001b[0m\u001b[0;34m]\u001b[0m\u001b[0;34m\u001b[0m\u001b[0;34m\u001b[0m\u001b[0m\n\u001b[0m",
      "\u001b[0;31mNameError\u001b[0m: name 'sentences' is not defined"
     ]
    }
   ],
   "source": [
    "[re.sub(r'Board', \" \", sentence) for sentence in sentences]"
   ]
  },
  {
   "cell_type": "code",
   "execution_count": null,
   "id": "925d95d5",
   "metadata": {},
   "outputs": [],
   "source": [
    "re.sub(r\"\\\\[a-z]+\\d?\", \" \", sentences)"
   ]
  },
  {
   "cell_type": "code",
   "execution_count": null,
   "id": "308d2cc0",
   "metadata": {},
   "outputs": [],
   "source": [
    "for script in soup([\"script\", \"style\"]):\n",
    "    script.decompose()\n",
    "\n",
    "strips = list(soup.stripped_strings)\n",
    "#print(strips)"
   ]
  },
  {
   "cell_type": "code",
   "execution_count": null,
   "id": "328b6396",
   "metadata": {},
   "outputs": [],
   "source": [
    "sentences = []\n",
    "\n",
    "for sent in strips:\n",
    "    match = re.search(r'repurchase', sent)\n",
    "    if match:\n",
    "        sentences.append(sent)\n",
    "sentences    "
   ]
  },
  {
   "cell_type": "code",
   "execution_count": null,
   "id": "96cd552e",
   "metadata": {},
   "outputs": [],
   "source": [
    "nlp = English()\n",
    "nlp.max_length = 1500000\n",
    "\n",
    "doc = nlp(ten_k)"
   ]
  },
  {
   "cell_type": "code",
   "execution_count": null,
   "id": "a0f835f7",
   "metadata": {},
   "outputs": [],
   "source": [
    "nlp = spacy.load('en_core_web_sm')\n",
    "doc = nlp(\"In March 2006, our Board of Directors approved a share repurchase program, authorizing the Company to repurchase up to 3,000,000 shares of common stock. In July 2008, the Board of Directors increased the authorization by an additional 3,000,000 shares, and in December 2015, the Board increased the authorization by an additional 1,500,000 shares for a total authorization to repurchase up to 7,500,000 shares. Since inception of its share repurchase program through July 31, 2021, the Company has repurchased 6,161,141 shares at a cost of approximately $404.4 million. As of July 31, 2021, 1,338,859 shares remained available to repurchase under the existing share repurchase program which has no expiration date.\")\n",
    "\n",
    "for ent in doc.ents:\n",
    "    print(ent.text, ent.label_)"
   ]
  },
  {
   "cell_type": "code",
   "execution_count": null,
   "id": "6b20514c",
   "metadata": {},
   "outputs": [],
   "source": [
    "nlp = spacy.load('en_core_web_sm')\n",
    "doc = nlp(str(strips))\n",
    "for ent in doc.ents:\n",
    "    print(ent.text, ent.label_)"
   ]
  },
  {
   "cell_type": "markdown",
   "id": "60be9803",
   "metadata": {},
   "source": [
    "nlp = spacy.load(\"en_core_web_sm\")\n",
    "doc = nlp(str(strips))\n",
    "\n",
    "#expression = r\"[Uu](nited|\\.?) ?[Ss](tates|\\.?)\"\n",
    "expression= r\"(share repurchase program\\, authorizing .*)\"\n",
    "for match in re.finditer(expression, doc.text):\n",
    "    start, end = match.span()\n",
    "    span = doc.char_span(start, end)\n",
    "    # This is a Span object or None if match doesn't map to valid token sequence\n",
    "    if span is not None:\n",
    "        print(\"Found match:\", span.text)"
   ]
  }
 ],
 "metadata": {
  "kernelspec": {
   "display_name": "Python 3",
   "language": "python",
   "name": "python3"
  },
  "language_info": {
   "codemirror_mode": {
    "name": "ipython",
    "version": 3
   },
   "file_extension": ".py",
   "mimetype": "text/x-python",
   "name": "python",
   "nbconvert_exporter": "python",
   "pygments_lexer": "ipython3",
   "version": "3.8.8"
  }
 },
 "nbformat": 4,
 "nbformat_minor": 5
}
