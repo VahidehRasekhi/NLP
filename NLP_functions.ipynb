{
 "cells": [
  {
   "cell_type": "code",
   "execution_count": 1,
   "id": "88dbe828",
   "metadata": {},
   "outputs": [],
   "source": [
    "from bs4 import BeautifulSoup as BS\n",
    "from tqdm import tqdm\n",
    "import re\n",
    "import pandas as pd\n",
    "from spacy.matcher import PhraseMatcher\n",
    "from spacy.lang.en import English\n",
    "import spacy\n",
    "\n",
    "from nltk import sent_tokenize"
   ]
  },
  {
   "cell_type": "code",
   "execution_count": 2,
   "id": "e4c8ec1e",
   "metadata": {},
   "outputs": [],
   "source": [
    "#function #1 import the html file and tokenize the sentences\n",
    "def import_10k(filepath):\n",
    "    with open(filepath, encoding='utf-8') as fp:\n",
    "        soup = BS(fp, 'html.parser')\n",
    "        ten_k = soup.text\n",
    "        sentences_tokenized=sent_tokenize(ten_k)\n",
    "    return sentences_tokenized "
   ]
  },
  {
   "cell_type": "code",
   "execution_count": 3,
   "id": "810025e2",
   "metadata": {},
   "outputs": [],
   "source": [
    "#function 2 regex the tokenized sentences to find the \n",
    "def regex_10k(sentences_tokenized):\n",
    "    sentences=[]\n",
    "    for sentence in sentences_tokenized:\n",
    "        match=re.search(r\"(share|stock) repurchase (program)?\", sentence)\n",
    "        if match: \n",
    "            match = re.search(r'authorized|approved', sentence)\n",
    "        if match:\n",
    "            sentences.append(sentence)  \n",
    "    paragraph = [re.sub(r\"\\\\[a-z]+\\d?\", \" \", repr(sentence).strip(\"'\")) for sentence in sentences]\n",
    "    \n",
    "    return paragraph"
   ]
  },
  {
   "cell_type": "code",
   "execution_count": 4,
   "id": "a1b8e36f",
   "metadata": {
    "scrolled": true
   },
   "outputs": [],
   "source": [
    "#function 3 NER on paragraphs using spaCy\n",
    "def ner_10k(paragraph):\n",
    "    nlp = spacy.load('en_core_web_sm')\n",
    "    for p in paragraph:\n",
    "        doc=nlp(p)\n",
    "        for ent in doc.ents:\n",
    "            if ent.label_ in [\"DATE\", \"CARDINAL\", \"MONEY\"]:\n",
    "                labels = print(ent.text, ent.label_)\n",
    "    \n",
    "    return labels"
   ]
  },
  {
   "cell_type": "code",
   "execution_count": 5,
   "id": "fcf0a052",
   "metadata": {},
   "outputs": [],
   "source": [
    "#combine it all together\n",
    "def search_10k(filepath):\n",
    "    imported_file = import_10k(filepath)\n",
    "    paragraph = regex_10k(imported_file)\n",
    "    labels = ner_10k(paragraph)\n",
    "    return labels"
   ]
  },
  {
   "cell_type": "code",
   "execution_count": 11,
   "id": "3acfd16e",
   "metadata": {},
   "outputs": [],
   "source": [
    "filepath= './data/earn-20211231.htm'"
   ]
  },
  {
   "cell_type": "code",
   "execution_count": 12,
   "id": "2adaf7d8",
   "metadata": {},
   "outputs": [
    {
     "name": "stdout",
     "output_type": "stream",
     "text": [
      "June 13, 2018 DATE\n",
      "1.2 million CARDINAL\n",
      "the years ended December 31, 2021 DATE\n",
      "2020 DATE\n",
      "31 DATE\n",
      "2021December 31 DATE\n",
      "2020Common CARDINAL\n",
      "12/31/2020 DATE\n",
      "12/31/2019 DATE\n",
      "12,455,758 CARDINAL\n",
      "23,926 CARDINAL\n",
      "136,142)Common CARDINAL\n",
      "12/31/2021 DATE\n",
      "12/31/2020 DATE\n",
      "12,343,542 CARDINAL\n",
      "12/31/2021 DATE\n",
      "12/31/2020 DATE\n",
      "27,594 CARDINAL\n",
      "December 31, 2021: DATE\n",
      "September 14 DATE\n",
      "2021September 13 DATE\n",
      "2020December 17, 20225,650 DATE\n",
      "December 16, 2021December 16, DATE\n",
      "20225,649 December 16, 2021December 16 DATE\n",
      "December 31, 2021 DATE\n",
      "2020 DATE\n",
      "268,831 CARDINAL\n",
      "274,798 CARDINAL\n",
      "June 13, 2018 DATE\n",
      "1.2 million CARDINAL\n"
     ]
    }
   ],
   "source": [
    "search_10k(filepath)"
   ]
  }
 ],
 "metadata": {
  "kernelspec": {
   "display_name": "Python 3",
   "language": "python",
   "name": "python3"
  },
  "language_info": {
   "codemirror_mode": {
    "name": "ipython",
    "version": 3
   },
   "file_extension": ".py",
   "mimetype": "text/x-python",
   "name": "python",
   "nbconvert_exporter": "python",
   "pygments_lexer": "ipython3",
   "version": "3.8.8"
  }
 },
 "nbformat": 4,
 "nbformat_minor": 5
}
