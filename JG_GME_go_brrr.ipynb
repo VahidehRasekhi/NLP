{
 "cells": [
  {
   "cell_type": "code",
   "execution_count": 5,
   "id": "50dcd75a",
   "metadata": {},
   "outputs": [],
   "source": [
    "from bs4 import BeautifulSoup as BS\n",
    "import pandas as pd\n",
    "import re\n",
    "from tqdm.notebook import tqdm\n",
    "from time import sleep\n",
    "import plotly.express as px\n",
    "import numpy as np\n",
    "import matplotlib.pyplot as plt\n",
    "import glob\n",
    "from spacy.lang.en import English\n",
    "import spacy\n",
    "from spacy.matcher import Matcher"
   ]
  },
  {
   "cell_type": "code",
   "execution_count": null,
   "id": "7eb55353",
   "metadata": {},
   "outputs": [],
   "source": [
    "with open('./data/azz-20220228.html', encoding = 'utf-8') as fi:\n",
    "    ten_k = BS(fi, 'html.parser')\n",
    "print(ten_k.prettify())"
   ]
  },
  {
   "cell_type": "markdown",
   "id": "9373cc9f",
   "metadata": {},
   "source": [
    "def import_10K(filepath):\n",
    "    with open(filepath, encoding = 'utf-8') as fi:\n",
    "        ten_k = BS(fi, 'html.parser')\n",
    "        \n",
    "    return ten_k"
   ]
  },
  {
   "cell_type": "markdown",
   "id": "3488b140",
   "metadata": {},
   "source": [
    "tenkdict = {}\n",
    "\n",
    "for filepath in tqdm(glob.glob('./data/*')):\n",
    "    title = filepath\n",
    "    ten_k = import_10K(filepath)\n",
    "    \n",
    "    tenkdict[title] = ten_k"
   ]
  },
  {
   "cell_type": "markdown",
   "id": "a641768f",
   "metadata": {},
   "source": [
    "json is labeled data. \n",
    "\n",
    "Veronica recommends treat it as a string. What are the common elements. 100 words before and 100 words after the pattern we find. "
   ]
  },
  {
   "cell_type": "code",
   "execution_count": null,
   "id": "e980f794",
   "metadata": {},
   "outputs": [],
   "source": [
    "re.split(r'\\share repurchase .*', str(tenkdict.values())"
   ]
  },
  {
   "cell_type": "code",
   "execution_count": null,
   "id": "006ebc44",
   "metadata": {},
   "outputs": [],
   "source": [
    "for script in soup([\"script\", \"style\"]):\n",
    "    script.decompose()\n",
    "\n",
    "strips = list(soup.stripped_strings)\n",
    "print(strips)"
   ]
  },
  {
   "cell_type": "code",
   "execution_count": null,
   "id": "8c9e4cc4",
   "metadata": {},
   "outputs": [],
   "source": [
    "for script in soup([\"script\", \"style\"]):\n",
    "    script.decompose()"
   ]
  }
 ],
 "metadata": {
  "kernelspec": {
   "display_name": "Python 3",
   "language": "python",
   "name": "python3"
  },
  "language_info": {
   "codemirror_mode": {
    "name": "ipython",
    "version": 3
   },
   "file_extension": ".py",
   "mimetype": "text/x-python",
   "name": "python",
   "nbconvert_exporter": "python",
   "pygments_lexer": "ipython3",
   "version": "3.8.8"
  }
 },
 "nbformat": 4,
 "nbformat_minor": 5
}
