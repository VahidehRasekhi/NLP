{
 "cells": [
  {
   "cell_type": "code",
   "execution_count": 3,
   "id": "2f47c270",
   "metadata": {},
   "outputs": [],
   "source": [
    "from bs4 import BeautifulSoup as BS\n",
    "import glob\n",
    "import time\n",
    "from tqdm import tqdm"
   ]
  },
  {
   "cell_type": "code",
   "execution_count": null,
   "id": "e8aab7c5",
   "metadata": {},
   "outputs": [],
   "source": [
    "sec10 = []\n",
    "for filepath in glob.glob('data/*'):\n",
    "    with open(filepath, encoding='utf_8') as fi:\n",
    "        fi = fi.read()\n",
    "        soup = BS(fi, 'html.parser')\n",
    "    sec10.append(fi)"
   ]
  },
  {
   "cell_type": "code",
   "execution_count": null,
   "id": "35c8c37b",
   "metadata": {},
   "outputs": [],
   "source": [
    "def import_10K(filepath):\n",
    "    with open(filepath, encoding = 'utf-8') as fi:\n",
    "        ten_k = BS(fi, 'html.parser')\n",
    "    return ten_k\n"
   ]
  },
  {
   "cell_type": "code",
   "execution_count": null,
   "id": "a097b890",
   "metadata": {},
   "outputs": [],
   "source": [
    "tenkdict = {}\n",
    "\n",
    "for filepath in tqdm(glob.glob('./data/*')):\n",
    "    title = filepath\n",
    "    ten_k = import_10K(filepath)\n",
    "    \n",
    "    tenkdict[title] = ten_k\n"
   ]
  },
  {
   "cell_type": "code",
   "execution_count": null,
   "id": "3c8af0c2",
   "metadata": {},
   "outputs": [],
   "source": [
    "print(soup.prettify())"
   ]
  },
  {
   "cell_type": "code",
   "execution_count": null,
   "id": "24af3df1",
   "metadata": {},
   "outputs": [],
   "source": [
    "tenkdict{}"
   ]
  },
  {
   "cell_type": "code",
   "execution_count": null,
   "id": "c83fc16c",
   "metadata": {},
   "outputs": [],
   "source": []
  }
 ],
 "metadata": {
  "kernelspec": {
   "display_name": "Python 3",
   "language": "python",
   "name": "python3"
  },
  "language_info": {
   "codemirror_mode": {
    "name": "ipython",
    "version": 3
   },
   "file_extension": ".py",
   "mimetype": "text/x-python",
   "name": "python",
   "nbconvert_exporter": "python",
   "pygments_lexer": "ipython3",
   "version": "3.8.8"
  }
 },
 "nbformat": 4,
 "nbformat_minor": 5
}
