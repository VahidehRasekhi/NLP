{
 "cells": [
  {
   "cell_type": "code",
   "execution_count": 2,
   "id": "88dbe828",
   "metadata": {},
   "outputs": [],
   "source": [
    "from bs4 import BeautifulSoup as BS\n",
    "from tqdm import tqdm\n",
    "import re\n",
    "import json\n",
    "import pandas as pd\n",
    "import glob\n",
    "from spacy.matcher import PhraseMatcher\n",
    "from spacy.lang.en import English\n",
    "import spacy\n",
    "\n",
    "from nltk import sent_tokenize"
   ]
  },
  {
   "cell_type": "code",
   "execution_count": 3,
   "id": "01def089",
   "metadata": {},
   "outputs": [],
   "source": [
    "nlp = English()\n",
    "matcher = PhraseMatcher(nlp.vocab)"
   ]
  },
  {
   "cell_type": "code",
   "execution_count": 50,
   "id": "e4c8ec1e",
   "metadata": {},
   "outputs": [],
   "source": [
    "filepath = './data/ctrn-20220129x10k.html'\n",
    "\n",
    "with open(filepath, encoding='utf-8') as fp:\n",
    "    test_file = BS(fp, 'html.parser')\n",
    "\n",
    "#print(test_file.prettify())\n",
    "\n",
    "test_file=test_file.text\n",
    "\n",
    "sentences_tokenized=sent_tokenize(test_file)\n",
    "#sentences_tokenized    "
   ]
  },
  {
   "cell_type": "code",
   "execution_count": 64,
   "id": "810025e2",
   "metadata": {},
   "outputs": [],
   "source": [
    "sentences=[]\n",
    "\n",
    "for sentence in sentences_tokenized:\n",
    "    match=re.search(r\"(share|stock) repurchase (program)?\", sentence)\n",
    "    if match: \n",
    "        match = re.search(r'authorized|approved', sentence)\n",
    "        if match:\n",
    "            sentences.append(sentence)  \n",
    "    "
   ]
  },
  {
   "cell_type": "code",
   "execution_count": 65,
   "id": "74c71430",
   "metadata": {},
   "outputs": [
    {
     "data": {
      "text/plain": [
       "['(2)  On November 30, 2021, the Company announced that its board of directors approved a $30 million stock repurchase program.',\n",
       " 'On March 15, 2022, the Company announced that its board of directors approved an additional $30 million stock repurchase program.',\n",
       " 'In March 2022, the Company announced that its board of directors approved an additional $30.0 million stock repurchase program.\\u200bStock-Based CompensationThe Company maintains the Citi Trends, Inc. Incentive Plan (the “Plan”) which permits the grant of stock-based incentive awards to employees, officers, directors and consultants.']"
      ]
     },
     "execution_count": 65,
     "metadata": {},
     "output_type": "execute_result"
    }
   ],
   "source": [
    "sentences"
   ]
  },
  {
   "cell_type": "code",
   "execution_count": 61,
   "id": "d9ea9932",
   "metadata": {},
   "outputs": [],
   "source": [
    "paragraph = [re.sub(r\"\\\\[a-z]+\\d?\", \" \", repr(sentence).strip(\"'\")) for sentence in sentences]"
   ]
  },
  {
   "cell_type": "code",
   "execution_count": 62,
   "id": "5e505c44",
   "metadata": {},
   "outputs": [
    {
     "data": {
      "text/plain": [
       "['(2)  On November 30, 2021, the Company announced that its board of directors approved a $30 million stock repurchase program.',\n",
       " 'On March 15, 2022, the Company announced that its board of directors approved an additional $30 million stock repurchase program.',\n",
       " 'In March 2022, the Company announced that its board of directors approved an additional $30.0 million stock repurchase program. 00bStock-Based CompensationThe Company maintains the Citi Trends, Inc. Incentive Plan (the “Plan”) which permits the grant of stock-based incentive awards to employees, officers, directors and consultants.']"
      ]
     },
     "execution_count": 62,
     "metadata": {},
     "output_type": "execute_result"
    }
   ],
   "source": [
    "paragraph"
   ]
  },
  {
   "cell_type": "markdown",
   "id": "cf79347c",
   "metadata": {},
   "source": [
    "another way to remove html part\n",
    "for script in test_file([\"script\", \"style\"]):\n",
    "    script.decompose()\n",
    "\n",
    "\n",
    "script = list(test_file.stripped_strings)\n",
    "print(script)"
   ]
  },
  {
   "cell_type": "code",
   "execution_count": 73,
   "id": "fb412132",
   "metadata": {},
   "outputs": [],
   "source": [
    "nlp = spacy.load('en_core_web_sm')"
   ]
  },
  {
   "cell_type": "code",
   "execution_count": 70,
   "id": "a1b8e36f",
   "metadata": {
    "scrolled": true
   },
   "outputs": [
    {
     "name": "stdout",
     "output_type": "stream",
     "text": [
      "2 CARDINAL\n",
      "November 30, 2021 DATE\n",
      "$30 million MONEY\n",
      "March 15, 2022 DATE\n",
      "an additional $30 million MONEY\n",
      "March 2022 DATE\n",
      "an additional $30.0 million MONEY\n"
     ]
    }
   ],
   "source": [
    "for p in paragraph:\n",
    "    doc=nlp(p)\n",
    "    for ent in doc.ents:\n",
    "        if ent.label_ in [\"DATE\", \"CARDINAL\", \"MONEY\"]:\n",
    "            print(ent.text, ent.label_)"
   ]
  },
  {
   "cell_type": "code",
   "execution_count": 13,
   "id": "185e9e00",
   "metadata": {},
   "outputs": [],
   "source": [
    "#the code in this cell and the following are from stack overflow to see how the code works \n",
    "color_patterns = [nlp(text) for text in ('red', 'green', 'yellow')]\n",
    "product_patterns = [nlp(text) for text in ('boots', 'coats', 'bag')]\n",
    "material_patterns = [nlp(text) for text in ('silk', 'yellow fabric')]\n",
    "\n",
    "matcher = PhraseMatcher(nlp.vocab)\n",
    "matcher.add('COLOR', None, *color_patterns)\n",
    "matcher.add('PRODUCT', None, *product_patterns)\n",
    "matcher.add('MATERIAL', None, *material_patterns)"
   ]
  },
  {
   "cell_type": "code",
   "execution_count": 14,
   "id": "cf57c7c9",
   "metadata": {},
   "outputs": [
    {
     "name": "stdout",
     "output_type": "stream",
     "text": [
      "COLOR yellow\n",
      "MATERIAL yellow fabric\n"
     ]
    }
   ],
   "source": [
    "doc = nlp(\"yellow fabric\")\n",
    "matches = matcher(doc)\n",
    "for match_id, start, end in matches:\n",
    "    rule_id = nlp.vocab.strings[match_id]  # get the unicode ID, i.e. 'COLOR'\n",
    "    span = doc[start : end]  # get the matched slice of the doc\n",
    "    print(rule_id, span.text)"
   ]
  }
 ],
 "metadata": {
  "kernelspec": {
   "display_name": "Python 3",
   "language": "python",
   "name": "python3"
  },
  "language_info": {
   "codemirror_mode": {
    "name": "ipython",
    "version": 3
   },
   "file_extension": ".py",
   "mimetype": "text/x-python",
   "name": "python",
   "nbconvert_exporter": "python",
   "pygments_lexer": "ipython3",
   "version": "3.8.8"
  }
 },
 "nbformat": 4,
 "nbformat_minor": 5
}
