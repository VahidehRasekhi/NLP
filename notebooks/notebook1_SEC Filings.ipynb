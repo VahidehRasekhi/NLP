{
 "cells": [
  {
   "cell_type": "code",
   "execution_count": null,
   "id": "0f8078c1",
   "metadata": {},
   "outputs": [],
   "source": [
    "from bs4 import BeautifulSoup as BS\n",
    "from tqdm import tqdm\n",
    "import re\n",
    "import json\n",
    "import pandas as pd\n",
    "import glob"
   ]
  },
  {
   "cell_type": "code",
   "execution_count": null,
   "id": "9437a80d",
   "metadata": {},
   "outputs": [],
   "source": [
    "#reading in one file\n",
    "with open(\"./data/lake_10k.html\") as site:\n",
    "    soup = BS(site, 'html.parser')\n",
    "\n",
    "print(soup.prettify())"
   ]
  },
  {
   "cell_type": "code",
   "execution_count": null,
   "id": "22303f53",
   "metadata": {},
   "outputs": [],
   "source": [
    "#reading in another file\n",
    "with open(\"./data/apog-20220226.html\") as fp:\n",
    "    soup = BS(fp, 'html.parser')\n",
    "\n",
    "print(soup.prettify())"
   ]
  },
  {
   "cell_type": "code",
   "execution_count": null,
   "id": "7d04a8c3",
   "metadata": {},
   "outputs": [],
   "source": [
    "#another file\n",
    "filepath = \"./data/mtn-20210731.htm\"\n",
    "\n",
    "with open(filepath) as fp:\n",
    "    soup = BS(fp, 'html.parser')\n",
    "\n",
    "print(soup.prettify())"
   ]
  },
  {
   "cell_type": "code",
   "execution_count": null,
   "id": "a26a742d",
   "metadata": {},
   "outputs": [],
   "source": [
    "#another file\n",
    "filepath = \"./data/apog-20220226.html\"\n",
    "\n",
    "with open(filepath) as fp:\n",
    "    soup = BS(fp, 'html.parser')\n",
    "\n",
    "print(soup.prettify())"
   ]
  },
  {
   "cell_type": "code",
   "execution_count": null,
   "id": "23ba4704",
   "metadata": {},
   "outputs": [],
   "source": [
    "#reading json file\n",
    "f = open('./data/annotations.json')\n",
    "data = json.load(f)\n",
    "data"
   ]
  },
  {
   "cell_type": "code",
   "execution_count": null,
   "id": "594ea665",
   "metadata": {},
   "outputs": [],
   "source": [
    "date=re.split(r'\\share repurchase .*', str(data))\n",
    "date"
   ]
  },
  {
   "cell_type": "code",
   "execution_count": null,
   "id": "79d1bc53",
   "metadata": {},
   "outputs": [],
   "source": [
    "re.split(r'\\authorization_amount .*', str(date))"
   ]
  },
  {
   "cell_type": "code",
   "execution_count": null,
   "id": "959174c3",
   "metadata": {},
   "outputs": [],
   "source": [
    "#defining a function to read all files \n",
    "def import_10K(filepath):\n",
    "    with open(filepath, encoding = 'utf-8') as fi:\n",
    "        ten_k = BS(fi, 'html.parser')\n",
    "    return ten_k"
   ]
  },
  {
   "cell_type": "code",
   "execution_count": null,
   "id": "591fe8c7",
   "metadata": {},
   "outputs": [],
   "source": [
    "#this is how we can read all the files in the data folder\n",
    "glob.glob('./data/*')"
   ]
  },
  {
   "cell_type": "code",
   "execution_count": null,
   "id": "2dad8d29",
   "metadata": {},
   "outputs": [],
   "source": [
    "#creating a dictionary fo the files in data folder\n",
    "#key is the filepaths, value is the content of each file\n",
    "ten_k_dict ={}\n",
    "\n",
    "for filepath in tqdm (glob.glob('./data/*')):\n",
    "    title = filepath\n",
    "    ten_k = import_10K(filepath)\n",
    "    \n",
    "    ten_k_dict[title] = ten_k"
   ]
  },
  {
   "cell_type": "code",
   "execution_count": null,
   "id": "da934472",
   "metadata": {},
   "outputs": [],
   "source": [
    "ten_k_dict"
   ]
  },
  {
   "cell_type": "code",
   "execution_count": null,
   "id": "0123aec3",
   "metadata": {},
   "outputs": [],
   "source": []
  }
 ],
 "metadata": {
  "kernelspec": {
   "display_name": "Python 3",
   "language": "python",
   "name": "python3"
  },
  "language_info": {
   "codemirror_mode": {
    "name": "ipython",
    "version": 3
   },
   "file_extension": ".py",
   "mimetype": "text/x-python",
   "name": "python",
   "nbconvert_exporter": "python",
   "pygments_lexer": "ipython3",
   "version": "3.8.8"
  }
 },
 "nbformat": 4,
 "nbformat_minor": 5
}
