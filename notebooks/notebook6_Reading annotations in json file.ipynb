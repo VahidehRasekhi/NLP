{
 "cells": [
  {
   "cell_type": "code",
   "execution_count": 1,
   "id": "96ec87a8",
   "metadata": {},
   "outputs": [],
   "source": [
    "import json "
   ]
  },
  {
   "cell_type": "code",
   "execution_count": 2,
   "id": "7de43081",
   "metadata": {},
   "outputs": [],
   "source": [
    "#reading in the json file\n",
    "with open('../data/annotations.json', 'r') as f:\n",
    "      annotations = json.load(f)"
   ]
  },
  {
   "cell_type": "code",
   "execution_count": 3,
   "id": "58af686d",
   "metadata": {},
   "outputs": [
    {
     "data": {
      "text/plain": [
       "{'filing': 'azz-20220228.html',\n",
       " 'text': \"On November 10, 2020, the Company's Board of Directors authorized a $100 million share repurchase program pursuant to which the Company may repurchase its common stock (the “2020 Authorization”). Repurchases under the 2020 Authorization will be made through open market and/or private transactions, in accordance with applicable federal securities laws, and could include repurchases pursuant to Rule 10b5-1 trading plans, which allows stock repurchases when the Company might otherwise be precluded from doing so.\",\n",
       " 'authorization_date': 'November 10, 2020',\n",
       " 'authorization_amount': '$100 million'}"
      ]
     },
     "execution_count": 3,
     "metadata": {},
     "output_type": "execute_result"
    }
   ],
   "source": [
    "#note to myself: index is for lists and tuples but not for dictionary\n",
    "\n",
    "#extracting the first annotations from the json and calling it first_filing\n",
    "first_filing=annotations[0]\n",
    "first_filing"
   ]
  },
  {
   "cell_type": "code",
   "execution_count": 4,
   "id": "f4d62806",
   "metadata": {},
   "outputs": [
    {
     "name": "stdout",
     "output_type": "stream",
     "text": [
      "filing\n",
      "azz-20220228.html\n",
      "text\n",
      "On November 10, 2020, the Company's Board of Directors authorized a $100 million share repurchase program pursuant to which the Company may repurchase its common stock (the “2020 Authorization”). Repurchases under the 2020 Authorization will be made through open market and/or private transactions, in accordance with applicable federal securities laws, and could include repurchases pursuant to Rule 10b5-1 trading plans, which allows stock repurchases when the Company might otherwise be precluded from doing so.\n",
      "authorization_date\n",
      "November 10, 2020\n",
      "authorization_amount\n",
      "$100 million\n"
     ]
    }
   ],
   "source": [
    "#extracting keys and values from the first annotation\n",
    "for key, value in first_filing.items():\n",
    "    print (key)\n",
    "    print (value)"
   ]
  },
  {
   "cell_type": "code",
   "execution_count": 5,
   "id": "b4cf95c8",
   "metadata": {},
   "outputs": [
    {
     "data": {
      "text/plain": [
       "\"On November 10, 2020, the Company's Board of Directors authorized a $100 million share repurchase program pursuant to which the Company may repurchase its common stock (the “2020 Authorization”). Repurchases under the 2020 Authorization will be made through open market and/or private transactions, in accordance with applicable federal securities laws, and could include repurchases pursuant to Rule 10b5-1 trading plans, which allows stock repurchases when the Company might otherwise be precluded from doing so.\""
      ]
     },
     "execution_count": 5,
     "metadata": {},
     "output_type": "execute_result"
    }
   ],
   "source": [
    "#extracting just the text\n",
    "text=first_filing['text']\n",
    "text"
   ]
  },
  {
   "cell_type": "code",
   "execution_count": 9,
   "id": "5d940a55",
   "metadata": {},
   "outputs": [
    {
     "data": {
      "text/plain": [
       "[(\"On November 10, 2020, the Company's Board of Directors authorized a $100 million share repurchase program pursuant to which the Company may repurchase its common stock (the “2020 Authorization”). Repurchases under the 2020 Authorization will be made through open market and/or private transactions, in accordance with applicable federal securities laws, and could include repurchases pursuant to Rule 10b5-1 trading plans, which allows stock repurchases when the Company might otherwise be precluded from doing so.\",\n",
       "  {'entities': [(3, 20, 'authorization_date'),\n",
       "    (68, 80, 'authorization_amount')]})]"
      ]
     },
     "execution_count": 9,
     "metadata": {},
     "output_type": "execute_result"
    }
   ],
   "source": [
    "#creating a list for training_data\n",
    "training_data=[]\n",
    "\n",
    "#all annotations have file name and text, so let's put these seperate\n",
    "filing= first_filing['filing']\n",
    "text=first_filing['text']\n",
    "\n",
    "\n",
    "#creating a dictionary which includes entities and relevant paragraphs \n",
    "dictionary={}\n",
    "dictionary['entities']=[]\n",
    "\n",
    "#extracting in a tuple format, the text, entities and their start/end index  \n",
    "for key, value in first_filing.items():\n",
    "    if key not in ('filing', 'text'):\n",
    "        entity_start = text.index(value)\n",
    "        entity_end = text.index(value) + len(value)\n",
    "        #entity_end=text.rindex(value)#, start= -1)\n",
    "        entity=(entity_start, entity_end, key)\n",
    "        dictionary['entities'].append(entity)\n",
    "\n",
    "\n",
    "training_data.append((text,dictionary))\n",
    "       \n",
    "\n",
    "#dictionary\n",
    "training_data   \n",
    " "
   ]
  },
  {
   "cell_type": "code",
   "execution_count": 8,
   "id": "a3721ca4",
   "metadata": {},
   "outputs": [
    {
     "data": {
      "text/plain": [
       "{'entities': [(3, 20, 'authorization_date'), (68, 80, 'authorization_amount')]}"
      ]
     },
     "execution_count": 8,
     "metadata": {},
     "output_type": "execute_result"
    }
   ],
   "source": [
    "dictionary"
   ]
  },
  {
   "cell_type": "code",
   "execution_count": 10,
   "id": "995f1cea",
   "metadata": {},
   "outputs": [
    {
     "data": {
      "text/plain": [
       "[(\"On November 10, 2020, the Company's Board of Directors authorized a $100 million share repurchase program pursuant to which the Company may repurchase its common stock (the “2020 Authorization”). Repurchases under the 2020 Authorization will be made through open market and/or private transactions, in accordance with applicable federal securities laws, and could include repurchases pursuant to Rule 10b5-1 trading plans, which allows stock repurchases when the Company might otherwise be precluded from doing so.\",\n",
       "  {'entities': [(3, 20, 'authorization_date'),\n",
       "    (68, 80, 'authorization_amount')]})]"
      ]
     },
     "execution_count": 10,
     "metadata": {},
     "output_type": "execute_result"
    }
   ],
   "source": [
    "training_data"
   ]
  },
  {
   "cell_type": "code",
   "execution_count": null,
   "id": "62b3d0d7",
   "metadata": {},
   "outputs": [],
   "source": []
  }
 ],
 "metadata": {
  "kernelspec": {
   "display_name": "Python 3",
   "language": "python",
   "name": "python3"
  },
  "language_info": {
   "codemirror_mode": {
    "name": "ipython",
    "version": 3
   },
   "file_extension": ".py",
   "mimetype": "text/x-python",
   "name": "python",
   "nbconvert_exporter": "python",
   "pygments_lexer": "ipython3",
   "version": "3.8.8"
  }
 },
 "nbformat": 4,
 "nbformat_minor": 5
}
